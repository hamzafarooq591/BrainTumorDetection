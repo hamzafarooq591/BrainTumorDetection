{
 "cells": [
  {
   "cell_type": "markdown",
   "metadata": {},
   "source": [
    "# import os \n"
   ]
  },
  {
   "cell_type": "markdown",
   "metadata": {},
   "source": [
    "Path to the directory where the original dataset is present"
   ]
  },
  {
   "cell_type": "code",
   "execution_count": null,
   "metadata": {},
   "outputs": [],
   "source": [
    "import os, shutil\n",
    "original_dataset_dir_no = 'D:\\\\Deep learning\\\\Bain tumor\\\\wetransfer-de0898\\\\DataSets of MR\\\\No Tumor' \n",
    "original_dataset_dir_yes = 'D:\\\\Deep learning\\\\Bain tumor\\\\wetransfer-de0898\\\\DataSets of MR\\\\Yes Tumor'"
   ]
  },
  {
   "cell_type": "markdown",
   "metadata": {},
   "source": [
    "Directory where you’ll store your original dataset"
   ]
  },
  {
   "cell_type": "code",
   "execution_count": null,
   "metadata": {},
   "outputs": [],
   "source": [
    "base_dir = 'D:\\Deep learning\\Bain tumor\\wetransfer-de0898\\DataSets03'\n",
    "os.mkdir(base_dir)"
   ]
  },
  {
   "cell_type": "markdown",
   "metadata": {},
   "source": [
    "Directories for the training, validation, and test splits"
   ]
  },
  {
   "cell_type": "code",
   "execution_count": null,
   "metadata": {},
   "outputs": [],
   "source": [
    "train_dir = os.path.join(base_dir, 'train')\n",
    "os.mkdir(train_dir)\n",
    "validation_dir = os.path.join(base_dir, 'validation')\n",
    "os.mkdir(validation_dir)\n",
    "test_dir = os.path.join(base_dir, 'test')\n",
    "os.mkdir(test_dir)"
   ]
  },
  {
   "cell_type": "markdown",
   "metadata": {},
   "source": [
    "Directory with training no tumor pictures"
   ]
  },
  {
   "cell_type": "code",
   "execution_count": null,
   "metadata": {},
   "outputs": [],
   "source": [
    "train_no_dir = os.path.join(train_dir, 'no_tumor')\n",
    "os.mkdir(train_no_dir)"
   ]
  },
  {
   "cell_type": "markdown",
   "metadata": {},
   "source": [
    "Directory with training yes tumor pictures"
   ]
  },
  {
   "cell_type": "code",
   "execution_count": null,
   "metadata": {},
   "outputs": [],
   "source": [
    "train_yes_dir = os.path.join(train_dir, 'yes_tumor')\n",
    "os.mkdir(train_yes_dir)"
   ]
  },
  {
   "cell_type": "markdown",
   "metadata": {},
   "source": [
    "Directory with validation no tumor pictures"
   ]
  },
  {
   "cell_type": "code",
   "execution_count": null,
   "metadata": {},
   "outputs": [],
   "source": [
    "validation_no_dir = os.path.join(validation_dir, 'no_tumor')\n",
    "os.mkdir(validation_no_dir)"
   ]
  },
  {
   "cell_type": "markdown",
   "metadata": {},
   "source": [
    "Directory with validation yes tumor pictures"
   ]
  },
  {
   "cell_type": "code",
   "execution_count": null,
   "metadata": {},
   "outputs": [],
   "source": [
    "validation_yes_dir = os.path.join(validation_dir, 'yes_tumor')\n",
    "os.mkdir(validation_yes_dir)"
   ]
  },
  {
   "cell_type": "markdown",
   "metadata": {},
   "source": [
    "Directory with test no tumor pictures"
   ]
  },
  {
   "cell_type": "code",
   "execution_count": null,
   "metadata": {},
   "outputs": [],
   "source": [
    "test_no_dir = os.path.join(test_dir, 'no_tumor')\n",
    "os.mkdir(test_no_dir)"
   ]
  },
  {
   "cell_type": "markdown",
   "metadata": {},
   "source": [
    "Directory with test yes tumor pictures"
   ]
  },
  {
   "cell_type": "code",
   "execution_count": null,
   "metadata": {},
   "outputs": [],
   "source": [
    "test_yes_dir = os.path.join(test_dir, 'yes_tumor')\n",
    "os.mkdir(test_yes_dir)"
   ]
  },
  {
   "cell_type": "markdown",
   "metadata": {},
   "source": [
    "Copies the first 4999 no tumor images to train_no_dir"
   ]
  },
  {
   "cell_type": "code",
   "execution_count": null,
   "metadata": {},
   "outputs": [],
   "source": [
    "fnames = ['img_{}.jpg'.format(i) for i in range(1,5000)]\n",
    "for fname in fnames:\n",
    "    src = os.path.join(original_dataset_dir_no, fname)\n",
    "    dst = os.path.join(train_no_dir, fname)\n",
    "    shutil.copyfile(src, dst)"
   ]
  },
  {
   "cell_type": "markdown",
   "metadata": {},
   "source": [
    "Copies the next 500 no tumor images to validation_no_dir"
   ]
  },
  {
   "cell_type": "code",
   "execution_count": null,
   "metadata": {},
   "outputs": [],
   "source": [
    "fnames = ['img_{}.jpg'.format(i) for i in range(5000, 5500)]\n",
    "for fname in fnames:\n",
    "    src = os.path.join(original_dataset_dir_no, fname)\n",
    "    dst = os.path.join(validation_no_dir, fname)\n",
    "    shutil.copyfile(src, dst)"
   ]
  },
  {
   "cell_type": "markdown",
   "metadata": {},
   "source": [
    "Copies the next 750 no tumor images to test_no_dir"
   ]
  },
  {
   "cell_type": "code",
   "execution_count": null,
   "metadata": {},
   "outputs": [],
   "source": [
    "fnames = ['img_{}.jpg'.format(i) for i in range(5500, 6150)]\n",
    "for fname in fnames:\n",
    "    src = os.path.join(original_dataset_dir_no, fname)\n",
    "    dst = os.path.join(test_no_dir, fname)\n",
    "    shutil.copyfile(src, dst)"
   ]
  },
  {
   "cell_type": "markdown",
   "metadata": {},
   "source": [
    "Copies the first 4999 yes tumor images to train_yes_dir"
   ]
  },
  {
   "cell_type": "code",
   "execution_count": null,
   "metadata": {},
   "outputs": [],
   "source": [
    "fnames = ['img_{}.jpg'.format(i) for i in range(1,4500)]\n",
    "for fname in fnames:\n",
    "    src = os.path.join(original_dataset_dir_yes, fname)\n",
    "    dst = os.path.join(train_yes_dir, fname)\n",
    "    shutil.copyfile(src, dst)"
   ]
  },
  {
   "cell_type": "markdown",
   "metadata": {},
   "source": [
    "Copies the next 500 yes tumor images to validation_yes_dir"
   ]
  },
  {
   "cell_type": "code",
   "execution_count": null,
   "metadata": {},
   "outputs": [],
   "source": [
    "fnames = ['img_{}.jpg'.format(i) for i in range(4500, 5000)]\n",
    "for fname in fnames:\n",
    "    src = os.path.join(original_dataset_dir_yes, fname)\n",
    "    dst = os.path.join(validation_yes_dir, fname)\n",
    "    shutil.copyfile(src, dst)"
   ]
  },
  {
   "cell_type": "markdown",
   "metadata": {},
   "source": [
    "Copies the next 500 yes tumor images to test_yes_dir"
   ]
  },
  {
   "cell_type": "code",
   "execution_count": 1,
   "metadata": {},
   "outputs": [],
   "source": [
    "fnames = ['img_{}.jpg'.format(i) for i in range(5000, 5500)]\n",
    "for fname in fnames:\n",
    "    src = os.path.join(original_dataset_dir_yes, fname)\n",
    "    dst = os.path.join(test_yes_dir, fname)\n",
    "    shutil.copyfile(src, dst)"
   ]
  },
  {
   "cell_type": "markdown",
   "metadata": {},
   "source": [
    "# Import VGG16"
   ]
  },
  {
   "cell_type": "markdown",
   "metadata": {},
   "source": [
    "Fine Tuning of VGG16 Use weights='imagenet , Exclude Top Layers"
   ]
  },
  {
   "cell_type": "code",
   "execution_count": 2,
   "metadata": {},
   "outputs": [
    {
     "name": "stdout",
     "output_type": "stream",
     "text": [
      "Model: \"vgg16\"\n",
      "_________________________________________________________________\n",
      "Layer (type)                 Output Shape              Param #   \n",
      "=================================================================\n",
      "input_1 (InputLayer)         [(None, 224, 224, 3)]     0         \n",
      "_________________________________________________________________\n",
      "block1_conv1 (Conv2D)        (None, 224, 224, 64)      1792      \n",
      "_________________________________________________________________\n",
      "block1_conv2 (Conv2D)        (None, 224, 224, 64)      36928     \n",
      "_________________________________________________________________\n",
      "block1_pool (MaxPooling2D)   (None, 112, 112, 64)      0         \n",
      "_________________________________________________________________\n",
      "block2_conv1 (Conv2D)        (None, 112, 112, 128)     73856     \n",
      "_________________________________________________________________\n",
      "block2_conv2 (Conv2D)        (None, 112, 112, 128)     147584    \n",
      "_________________________________________________________________\n",
      "block2_pool (MaxPooling2D)   (None, 56, 56, 128)       0         \n",
      "_________________________________________________________________\n",
      "block3_conv1 (Conv2D)        (None, 56, 56, 256)       295168    \n",
      "_________________________________________________________________\n",
      "block3_conv2 (Conv2D)        (None, 56, 56, 256)       590080    \n",
      "_________________________________________________________________\n",
      "block3_conv3 (Conv2D)        (None, 56, 56, 256)       590080    \n",
      "_________________________________________________________________\n",
      "block3_pool (MaxPooling2D)   (None, 28, 28, 256)       0         \n",
      "_________________________________________________________________\n",
      "block4_conv1 (Conv2D)        (None, 28, 28, 512)       1180160   \n",
      "_________________________________________________________________\n",
      "block4_conv2 (Conv2D)        (None, 28, 28, 512)       2359808   \n",
      "_________________________________________________________________\n",
      "block4_conv3 (Conv2D)        (None, 28, 28, 512)       2359808   \n",
      "_________________________________________________________________\n",
      "block4_pool (MaxPooling2D)   (None, 14, 14, 512)       0         \n",
      "_________________________________________________________________\n",
      "block5_conv1 (Conv2D)        (None, 14, 14, 512)       2359808   \n",
      "_________________________________________________________________\n",
      "block5_conv2 (Conv2D)        (None, 14, 14, 512)       2359808   \n",
      "_________________________________________________________________\n",
      "block5_conv3 (Conv2D)        (None, 14, 14, 512)       2359808   \n",
      "_________________________________________________________________\n",
      "block5_pool (MaxPooling2D)   (None, 7, 7, 512)         0         \n",
      "=================================================================\n",
      "Total params: 14,714,688\n",
      "Trainable params: 14,714,688\n",
      "Non-trainable params: 0\n",
      "_________________________________________________________________\n"
     ]
    }
   ],
   "source": [
    "from tensorflow.keras.applications import VGG16\n",
    "conv_base = VGG16(weights='imagenet',\n",
    "include_top=False,\n",
    "input_shape=(224, 224, 3))\n",
    "conv_base.summary()\n",
    "\n",
    "# pass three arguments to the constructor:\n",
    "#  weights specifies the weight checkpoint from which to initialize the model.\n",
    "#  include_top refers to including (or not) the densely connected classifier on\n",
    "# top of the network. By default, this densely connected classifier corresponds to\n",
    "# the 1,000 classes from ImageNet. Because you intend to use your own densely\n",
    "# connected classifier (with only two classes: yes tumor and no tumor), you don’t need to\n",
    "# include it.\n",
    "#  input_shape is the shape of the image tensors that you’ll feed to the network.\n",
    "# This argument is purely optional: if you don’t pass it, the network will be able to\n",
    "# process inputs of any size.\n",
    "# Here’s the detail of the architecture of the VGG16 convolutional base. It’s similar to\n",
    "# the simple convnets you’re already familiar with:"
   ]
  },
  {
   "cell_type": "markdown",
   "metadata": {},
   "source": [
    "Make Hybird Model with fine tuning By Adding Flatten,Dropout and Dense In VGG16 And Compile Model With 'binary_crossentropy'"
   ]
  },
  {
   "cell_type": "code",
   "execution_count": 3,
   "metadata": {},
   "outputs": [
    {
     "name": "stdout",
     "output_type": "stream",
     "text": [
      "Model: \"sequential\"\n",
      "_________________________________________________________________\n",
      "Layer (type)                 Output Shape              Param #   \n",
      "=================================================================\n",
      "vgg16 (Model)                (None, 7, 7, 512)         14714688  \n",
      "_________________________________________________________________\n",
      "flatten (Flatten)            (None, 25088)             0         \n",
      "_________________________________________________________________\n",
      "dropout (Dropout)            (None, 25088)             0         \n",
      "_________________________________________________________________\n",
      "dense (Dense)                (None, 1)                 25089     \n",
      "=================================================================\n",
      "Total params: 14,739,777\n",
      "Trainable params: 25,089\n",
      "Non-trainable params: 14,714,688\n",
      "_________________________________________________________________\n"
     ]
    }
   ],
   "source": [
    "from tensorflow.keras.models import Model, Sequential\n",
    "from tensorflow.keras import layers\n",
    "from tensorflow.keras.optimizers import RMSprop\n",
    "NUM_CLASSES = 1\n",
    "model = Sequential()\n",
    "model.add(conv_base)\n",
    "model.add(layers.Flatten())\n",
    "model.add(layers.Dropout(0.5))\n",
    "model.add(layers.Dense(NUM_CLASSES, activation='sigmoid'))\n",
    "\n",
    "model.layers[0].trainable = False\n",
    "\n",
    "model.compile(\n",
    "    loss='binary_crossentropy',\n",
    "    optimizer=RMSprop(lr=1e-4),\n",
    "    metrics=['acc']\n",
    ")\n",
    "\n",
    "model.summary()"
   ]
  },
  {
   "cell_type": "markdown",
   "metadata": {},
   "source": [
    "Import EarlyStopping and ModelCheckpoint call backs"
   ]
  },
  {
   "cell_type": "code",
   "execution_count": 4,
   "metadata": {},
   "outputs": [],
   "source": [
    "from tensorflow.keras.callbacks import EarlyStopping, ModelCheckpoint"
   ]
  },
  {
   "cell_type": "markdown",
   "metadata": {},
   "source": [
    "callback for earlystopping Monitors the model’s val_loss and ModelCheckpoint Monitors the model’s val_acc"
   ]
  },
  {
   "cell_type": "code",
   "execution_count": 5,
   "metadata": {},
   "outputs": [],
   "source": [
    "early_stop = EarlyStopping(monitor='val_loss', mode='min', \n",
    "                           verbose=1, patience= 5)\n",
    "\n",
    "checkpoint = ModelCheckpoint('BrainTumor_Model.h5', monitor='val_acc', \n",
    "                            verbose=1, save_best_only=True, mode='max')"
   ]
  },
  {
   "cell_type": "markdown",
   "metadata": {},
   "source": [
    "Using ImageDataGenerator to read images from directories"
   ]
  },
  {
   "cell_type": "code",
   "execution_count": null,
   "metadata": {},
   "outputs": [],
   "source": [
    "from tensorflow.keras.preprocessing.image import ImageDataGenerator"
   ]
  },
  {
   "cell_type": "markdown",
   "metadata": {},
   "source": [
    "Rescales all images by 1/255"
   ]
  },
  {
   "cell_type": "code",
   "execution_count": 6,
   "metadata": {},
   "outputs": [],
   "source": [
    "train_datagen = ImageDataGenerator(rescale=1./255)\n",
    "test_datagen = ImageDataGenerator(rescale=1./255)"
   ]
  },
  {
   "cell_type": "markdown",
   "metadata": {},
   "source": [
    "Give Train directory,  Resizes all images to 224 × 224,  Batch Size = 20  and  using class_mode = binary (Because you use binary_crossentropy loss, you need binary labels.)"
   ]
  },
  {
   "cell_type": "code",
   "execution_count": 7,
   "metadata": {},
   "outputs": [
    {
     "name": "stdout",
     "output_type": "stream",
     "text": [
      "Found 9498 images belonging to 2 classes.\n"
     ]
    }
   ],
   "source": [
    "train_generator = train_datagen.flow_from_directory(\n",
    "train_dir,\n",
    "target_size=(224, 224),\n",
    "batch_size=20,\n",
    "class_mode='binary')"
   ]
  },
  {
   "cell_type": "markdown",
   "metadata": {},
   "source": [
    "Give Validation directory, Resizes all images to 224 × 224, Batch Size = 20 and using class_mode = binary (Because you use binary_crossentropy loss, you need binary labels.)"
   ]
  },
  {
   "cell_type": "code",
   "execution_count": 8,
   "metadata": {},
   "outputs": [
    {
     "name": "stdout",
     "output_type": "stream",
     "text": [
      "Found 1000 images belonging to 2 classes.\n"
     ]
    }
   ],
   "source": [
    "validation_generator = test_datagen.flow_from_directory(\n",
    "validation_dir,\n",
    "target_size=(224, 224),\n",
    "batch_size=20,\n",
    "class_mode='binary')"
   ]
  },
  {
   "cell_type": "markdown",
   "metadata": {},
   "source": [
    "Fitting the model using a batch generator "
   ]
  },
  {
   "cell_type": "code",
   "execution_count": 9,
   "metadata": {},
   "outputs": [
    {
     "name": "stdout",
     "output_type": "stream",
     "text": [
      "Epoch 1/100\n",
      " 9/10 [==========================>...] - ETA: 51s - loss: 0.7554 - acc: 0.5500 \n",
      "Epoch 00001: val_acc improved from -inf to 0.74600, saving model to BrainTumor_Model.hdf5\n",
      "10/10 [==============================] - 897s 90s/step - loss: 0.7474 - acc: 0.5550 - val_loss: 0.5815 - val_acc: 0.7460\n",
      "Epoch 2/100\n",
      " 9/10 [==========================>...] - ETA: 51s - loss: 0.6447 - acc: 0.5778 \n",
      "Epoch 00002: val_acc did not improve from 0.74600\n",
      "10/10 [==============================] - 899s 90s/step - loss: 0.6492 - acc: 0.5800 - val_loss: 0.5569 - val_acc: 0.7060\n",
      "Epoch 3/100\n",
      " 9/10 [==========================>...] - ETA: 52s - loss: 0.5884 - acc: 0.6722 \n",
      "Epoch 00003: val_acc improved from 0.74600 to 0.82200, saving model to BrainTumor_Model.hdf5\n",
      "10/10 [==============================] - 902s 90s/step - loss: 0.5887 - acc: 0.6600 - val_loss: 0.4902 - val_acc: 0.8220\n",
      "Epoch 4/100\n",
      " 9/10 [==========================>...] - ETA: 52s - loss: 0.5330 - acc: 0.7500 \n",
      "Epoch 00004: val_acc improved from 0.82200 to 0.84200, saving model to BrainTumor_Model.hdf5\n",
      "10/10 [==============================] - 909s 91s/step - loss: 0.5238 - acc: 0.7550 - val_loss: 0.4603 - val_acc: 0.8420\n",
      "Epoch 5/100\n",
      " 9/10 [==========================>...] - ETA: 51s - loss: 0.5011 - acc: 0.7722 \n",
      "Epoch 00005: val_acc improved from 0.84200 to 0.86800, saving model to BrainTumor_Model.hdf5\n",
      "10/10 [==============================] - 891s 89s/step - loss: 0.5026 - acc: 0.7650 - val_loss: 0.4130 - val_acc: 0.8680\n",
      "Epoch 6/100\n",
      " 9/10 [==========================>...] - ETA: 51s - loss: 0.5174 - acc: 0.7444 \n",
      "Epoch 00006: val_acc did not improve from 0.86800\n",
      "10/10 [==============================] - 894s 89s/step - loss: 0.5504 - acc: 0.7350 - val_loss: 0.4037 - val_acc: 0.8160\n",
      "Epoch 7/100\n",
      " 9/10 [==========================>...] - ETA: 51s - loss: 0.5481 - acc: 0.6944 \n",
      "Epoch 00007: val_acc improved from 0.86800 to 0.89800, saving model to BrainTumor_Model.hdf5\n",
      "10/10 [==============================] - 890s 89s/step - loss: 0.5457 - acc: 0.6800 - val_loss: 0.3582 - val_acc: 0.8980\n",
      "Epoch 8/100\n",
      " 9/10 [==========================>...] - ETA: 51s - loss: 0.4763 - acc: 0.7722 \n",
      "Epoch 00008: val_acc improved from 0.89800 to 0.90200, saving model to BrainTumor_Model.hdf5\n",
      "10/10 [==============================] - 893s 89s/step - loss: 0.4804 - acc: 0.7750 - val_loss: 0.3432 - val_acc: 0.9020\n",
      "Epoch 9/100\n",
      " 9/10 [==========================>...] - ETA: 51s - loss: 0.5083 - acc: 0.7389 \n",
      "Epoch 00009: val_acc did not improve from 0.90200\n",
      "10/10 [==============================] - 892s 89s/step - loss: 0.5230 - acc: 0.7200 - val_loss: 0.3347 - val_acc: 0.8820\n",
      "Epoch 10/100\n",
      " 9/10 [==========================>...] - ETA: 51s - loss: 0.4199 - acc: 0.8222 \n",
      "Epoch 00010: val_acc improved from 0.90200 to 0.91800, saving model to BrainTumor_Model.hdf5\n",
      "10/10 [==============================] - 893s 89s/step - loss: 0.4125 - acc: 0.8250 - val_loss: 0.3045 - val_acc: 0.9180\n",
      "Epoch 11/100\n",
      " 9/10 [==========================>...] - ETA: 51s - loss: 0.5109 - acc: 0.7500 \n",
      "Epoch 00011: val_acc did not improve from 0.91800\n",
      "10/10 [==============================] - 892s 89s/step - loss: 0.5149 - acc: 0.7450 - val_loss: 0.2957 - val_acc: 0.9140\n",
      "Epoch 12/100\n",
      " 9/10 [==========================>...] - ETA: 51s - loss: 0.4181 - acc: 0.8389 \n",
      "Epoch 00012: val_acc improved from 0.91800 to 0.93800, saving model to BrainTumor_Model.hdf5\n",
      "10/10 [==============================] - 895s 89s/step - loss: 0.4151 - acc: 0.8350 - val_loss: 0.2739 - val_acc: 0.9380\n",
      "Epoch 13/100\n",
      " 9/10 [==========================>...] - ETA: 51s - loss: 0.3756 - acc: 0.8278 \n",
      "Epoch 00013: val_acc did not improve from 0.93800\n",
      "10/10 [==============================] - 894s 89s/step - loss: 0.3773 - acc: 0.8350 - val_loss: 0.2679 - val_acc: 0.9340\n",
      "Epoch 14/100\n",
      " 9/10 [==========================>...] - ETA: 51s - loss: 0.4279 - acc: 0.7944 \n",
      "Epoch 00014: val_acc improved from 0.93800 to 0.94600, saving model to BrainTumor_Model.hdf5\n",
      "10/10 [==============================] - 893s 89s/step - loss: 0.4285 - acc: 0.7950 - val_loss: 0.2477 - val_acc: 0.9460\n",
      "Epoch 15/100\n",
      " 9/10 [==========================>...] - ETA: 51s - loss: 0.3993 - acc: 0.8167 \n",
      "Epoch 00015: val_acc did not improve from 0.94600\n",
      "10/10 [==============================] - 892s 89s/step - loss: 0.4014 - acc: 0.8200 - val_loss: 0.2548 - val_acc: 0.9280\n",
      "Epoch 16/100\n",
      " 9/10 [==========================>...] - ETA: 51s - loss: 0.3589 - acc: 0.8667 \n",
      "Epoch 00016: val_acc improved from 0.94600 to 0.95600, saving model to BrainTumor_Model.hdf5\n",
      "10/10 [==============================] - 892s 89s/step - loss: 0.3600 - acc: 0.8650 - val_loss: 0.2262 - val_acc: 0.9560\n",
      "Epoch 17/100\n",
      " 9/10 [==========================>...] - ETA: 51s - loss: 0.3852 - acc: 0.8111 \n",
      "Epoch 00017: val_acc did not improve from 0.95600\n",
      "10/10 [==============================] - 890s 89s/step - loss: 0.3901 - acc: 0.8050 - val_loss: 0.2266 - val_acc: 0.9540\n",
      "Epoch 18/100\n",
      " 9/10 [==========================>...] - ETA: 51s - loss: 0.3586 - acc: 0.8444 \n",
      "Epoch 00018: val_acc did not improve from 0.95600\n",
      "10/10 [==============================] - 878s 88s/step - loss: 0.3581 - acc: 0.8400 - val_loss: 0.2102 - val_acc: 0.9560\n",
      "Epoch 19/100\n",
      " 9/10 [==========================>...] - ETA: 50s - loss: 0.3609 - acc: 0.8167 \n",
      "Epoch 00019: val_acc improved from 0.95600 to 0.96400, saving model to BrainTumor_Model.hdf5\n",
      "10/10 [==============================] - 878s 88s/step - loss: 0.3536 - acc: 0.8250 - val_loss: 0.2025 - val_acc: 0.9640\n",
      "Epoch 20/100\n",
      " 9/10 [==========================>...] - ETA: 50s - loss: 0.3719 - acc: 0.8483 \n",
      "Epoch 00020: val_acc did not improve from 0.96400\n",
      "10/10 [==============================] - 873s 87s/step - loss: 0.3715 - acc: 0.8535 - val_loss: 0.1988 - val_acc: 0.9620\n",
      "Epoch 21/100\n",
      " 9/10 [==========================>...] - ETA: 50s - loss: 0.3369 - acc: 0.8722 \n",
      "Epoch 00021: val_acc improved from 0.96400 to 0.96600, saving model to BrainTumor_Model.hdf5\n",
      "10/10 [==============================] - 882s 88s/step - loss: 0.3378 - acc: 0.8800 - val_loss: 0.1910 - val_acc: 0.9660\n",
      "Epoch 22/100\n",
      " 9/10 [==========================>...] - ETA: 50s - loss: 0.3487 - acc: 0.8500 \n",
      "Epoch 00022: val_acc did not improve from 0.96600\n",
      "10/10 [==============================] - 876s 88s/step - loss: 0.3393 - acc: 0.8550 - val_loss: 0.1869 - val_acc: 0.9660\n",
      "Epoch 23/100\n",
      " 9/10 [==========================>...] - ETA: 50s - loss: 0.2816 - acc: 0.9278 \n",
      "Epoch 00023: val_acc did not improve from 0.96600\n",
      "10/10 [==============================] - 880s 88s/step - loss: 0.2854 - acc: 0.9250 - val_loss: 0.1917 - val_acc: 0.9580\n",
      "Epoch 24/100\n",
      " 9/10 [==========================>...] - ETA: 50s - loss: 0.3135 - acc: 0.8833 \n",
      "Epoch 00024: val_acc did not improve from 0.96600\n",
      "10/10 [==============================] - 877s 88s/step - loss: 0.3193 - acc: 0.8800 - val_loss: 0.1878 - val_acc: 0.9600\n",
      "Epoch 25/100\n",
      " 9/10 [==========================>...] - ETA: 50s - loss: 0.3011 - acc: 0.8833 \n",
      "Epoch 00025: val_acc did not improve from 0.96600\n",
      "10/10 [==============================] - 878s 88s/step - loss: 0.2865 - acc: 0.8900 - val_loss: 0.1740 - val_acc: 0.9620\n",
      "Epoch 26/100\n",
      " 9/10 [==========================>...] - ETA: 50s - loss: 0.3275 - acc: 0.8611 \n",
      "Epoch 00026: val_acc improved from 0.96600 to 0.97400, saving model to BrainTumor_Model.hdf5\n",
      "10/10 [==============================] - 880s 88s/step - loss: 0.3213 - acc: 0.8650 - val_loss: 0.1581 - val_acc: 0.9740\n",
      "Epoch 27/100\n",
      " 9/10 [==========================>...] - ETA: 50s - loss: 0.3104 - acc: 0.8667 \n",
      "Epoch 00027: val_acc did not improve from 0.97400\n",
      "10/10 [==============================] - 876s 88s/step - loss: 0.3083 - acc: 0.8750 - val_loss: 0.1722 - val_acc: 0.9600\n",
      "Epoch 28/100\n",
      " 9/10 [==========================>...] - ETA: 50s - loss: 0.3078 - acc: 0.8444 \n",
      "Epoch 00028: val_acc did not improve from 0.97400\n",
      "10/10 [==============================] - 876s 88s/step - loss: 0.3071 - acc: 0.8500 - val_loss: 0.1589 - val_acc: 0.9680\n",
      "Epoch 29/100\n",
      " 9/10 [==========================>...] - ETA: 50s - loss: 0.2997 - acc: 0.8944 \n",
      "Epoch 00029: val_acc did not improve from 0.97400\n",
      "10/10 [==============================] - 877s 88s/step - loss: 0.2943 - acc: 0.9000 - val_loss: 0.1733 - val_acc: 0.9560\n"
     ]
    },
    {
     "name": "stdout",
     "output_type": "stream",
     "text": [
      "Epoch 30/100\n",
      " 9/10 [==========================>...] - ETA: 50s - loss: 0.3967 - acc: 0.7833 \n",
      "Epoch 00030: val_acc did not improve from 0.97400\n",
      "10/10 [==============================] - 876s 88s/step - loss: 0.3801 - acc: 0.7950 - val_loss: 0.1764 - val_acc: 0.9580\n",
      "Epoch 31/100\n",
      " 9/10 [==========================>...] - ETA: 50s - loss: 0.2969 - acc: 0.8944 \n",
      "Epoch 00031: val_acc improved from 0.97400 to 0.98000, saving model to BrainTumor_Model.hdf5\n",
      "10/10 [==============================] - 876s 88s/step - loss: 0.3122 - acc: 0.8800 - val_loss: 0.1415 - val_acc: 0.9800\n",
      "Epoch 32/100\n",
      " 9/10 [==========================>...] - ETA: 50s - loss: 0.2914 - acc: 0.8833 \n",
      "Epoch 00032: val_acc did not improve from 0.98000\n",
      "10/10 [==============================] - 877s 88s/step - loss: 0.2824 - acc: 0.8900 - val_loss: 0.1430 - val_acc: 0.9780\n",
      "Epoch 33/100\n",
      " 9/10 [==========================>...] - ETA: 51s - loss: 0.2640 - acc: 0.9167 \n",
      "Epoch 00033: val_acc did not improve from 0.98000\n",
      "10/10 [==============================] - 892s 89s/step - loss: 0.2724 - acc: 0.9100 - val_loss: 0.1451 - val_acc: 0.9760\n",
      "Epoch 34/100\n",
      " 9/10 [==========================>...] - ETA: 51s - loss: 0.2621 - acc: 0.8889 \n",
      "Epoch 00034: val_acc did not improve from 0.98000\n",
      "10/10 [==============================] - 885s 89s/step - loss: 0.2603 - acc: 0.8900 - val_loss: 0.1406 - val_acc: 0.9740\n",
      "Epoch 35/100\n",
      " 9/10 [==========================>...] - ETA: 51s - loss: 0.3148 - acc: 0.8500 \n",
      "Epoch 00035: val_acc did not improve from 0.98000\n",
      "10/10 [==============================] - 895s 89s/step - loss: 0.3326 - acc: 0.8400 - val_loss: 0.1401 - val_acc: 0.9760\n",
      "Epoch 36/100\n",
      " 9/10 [==========================>...] - ETA: 51s - loss: 0.2146 - acc: 0.9333 \n",
      "Epoch 00036: val_acc did not improve from 0.98000\n",
      "10/10 [==============================] - 896s 90s/step - loss: 0.2175 - acc: 0.9300 - val_loss: 0.1474 - val_acc: 0.9700\n",
      "Epoch 37/100\n",
      " 9/10 [==========================>...] - ETA: 52s - loss: 0.3063 - acc: 0.8667 \n",
      "Epoch 00037: val_acc did not improve from 0.98000\n",
      "10/10 [==============================] - 903s 90s/step - loss: 0.3034 - acc: 0.8650 - val_loss: 0.1713 - val_acc: 0.9520\n",
      "Epoch 38/100\n",
      " 9/10 [==========================>...] - ETA: 52s - loss: 0.2539 - acc: 0.9000 \n",
      "Epoch 00038: val_acc did not improve from 0.98000\n",
      "10/10 [==============================] - 902s 90s/step - loss: 0.2523 - acc: 0.8950 - val_loss: 0.1343 - val_acc: 0.9800\n",
      "Epoch 39/100\n",
      " 9/10 [==========================>...] - ETA: 52s - loss: 0.2421 - acc: 0.8833 \n",
      "Epoch 00039: val_acc improved from 0.98000 to 0.98400, saving model to BrainTumor_Model.hdf5\n",
      "10/10 [==============================] - 903s 90s/step - loss: 0.2323 - acc: 0.8900 - val_loss: 0.1201 - val_acc: 0.9840\n",
      "Epoch 40/100\n",
      " 9/10 [==========================>...] - ETA: 52s - loss: 0.2555 - acc: 0.9000 \n",
      "Epoch 00040: val_acc did not improve from 0.98400\n",
      "10/10 [==============================] - 903s 90s/step - loss: 0.2463 - acc: 0.9100 - val_loss: 0.1164 - val_acc: 0.9840\n",
      "Epoch 41/100\n",
      " 9/10 [==========================>...] - ETA: 52s - loss: 0.2826 - acc: 0.9056 \n",
      "Epoch 00041: val_acc did not improve from 0.98400\n",
      "10/10 [==============================] - 903s 90s/step - loss: 0.2665 - acc: 0.9150 - val_loss: 0.1442 - val_acc: 0.9660\n",
      "Epoch 42/100\n",
      " 9/10 [==========================>...] - ETA: 52s - loss: 0.2088 - acc: 0.9222 \n",
      "Epoch 00042: val_acc did not improve from 0.98400\n",
      "10/10 [==============================] - 903s 90s/step - loss: 0.2323 - acc: 0.9150 - val_loss: 0.1122 - val_acc: 0.9840\n",
      "Epoch 43/100\n",
      " 9/10 [==========================>...] - ETA: 52s - loss: 0.2521 - acc: 0.8944 \n",
      "Epoch 00043: val_acc did not improve from 0.98400\n",
      "10/10 [==============================] - 903s 90s/step - loss: 0.2525 - acc: 0.8900 - val_loss: 0.1273 - val_acc: 0.9760\n",
      "Epoch 44/100\n",
      " 9/10 [==========================>...] - ETA: 52s - loss: 0.2802 - acc: 0.8778 \n",
      "Epoch 00044: val_acc did not improve from 0.98400\n",
      "10/10 [==============================] - 904s 90s/step - loss: 0.2726 - acc: 0.8800 - val_loss: 0.1388 - val_acc: 0.9780\n",
      "Epoch 45/100\n",
      " 9/10 [==========================>...] - ETA: 52s - loss: 0.3037 - acc: 0.8722 \n",
      "Epoch 00045: val_acc did not improve from 0.98400\n",
      "10/10 [==============================] - 902s 90s/step - loss: 0.3089 - acc: 0.8750 - val_loss: 0.1252 - val_acc: 0.9780\n",
      "Epoch 46/100\n",
      " 9/10 [==========================>...] - ETA: 52s - loss: 0.2184 - acc: 0.9000 \n",
      "Epoch 00046: val_acc did not improve from 0.98400\n",
      "10/10 [==============================] - 903s 90s/step - loss: 0.2275 - acc: 0.9000 - val_loss: 0.1237 - val_acc: 0.9820\n",
      "Epoch 47/100\n",
      " 9/10 [==========================>...] - ETA: 52s - loss: 0.3107 - acc: 0.8389 \n",
      "Epoch 00047: val_acc did not improve from 0.98400\n",
      "10/10 [==============================] - 902s 90s/step - loss: 0.2923 - acc: 0.8500 - val_loss: 0.1277 - val_acc: 0.9800\n",
      "Epoch 00047: early stopping\n"
     ]
    }
   ],
   "source": [
    "history = model.fit_generator(\n",
    "train_generator,\n",
    "steps_per_epoch=10,\n",
    "epochs=100,\n",
    "validation_data=validation_generator,\n",
    "validation_steps=25,\n",
    "callbacks = [early_stop,checkpoint]\n",
    ")"
   ]
  },
  {
   "cell_type": "markdown",
   "metadata": {},
   "source": [
    "# Diagnostic plot"
   ]
  },
  {
   "cell_type": "markdown",
   "metadata": {},
   "source": [
    "Displaying curves of loss and accuracy during training"
   ]
  },
  {
   "cell_type": "code",
   "execution_count": 10,
   "metadata": {},
   "outputs": [
    {
     "data": {
      "image/png": "[encoded data removed]",
      "text/plain": [
       "<Figure size 432x288 with 1 Axes>"
      ]
     },
     "metadata": {
      "needs_background": "light"
     },
     "output_type": "display_data"
    },
    {
     "data": {
      "image/png": "[encoded data removed]",
      "text/plain": [
       "<Figure size 432x288 with 1 Axes>"
      ]
     },
     "metadata": {
      "needs_background": "light"
     },
     "output_type": "display_data"
    }
   ],
   "source": [
    "%matplotlib inline\n",
    "import matplotlib.pyplot as plt\n",
    "acc = history.history['acc']\n",
    "val_acc = history.history['val_acc']\n",
    "loss = history.history['loss']\n",
    "val_loss = history.history['val_loss']\n",
    "epochs = range(1, len(acc) + 1)\n",
    "plt.plot(epochs, acc, 'bo', label='Training acc')\n",
    "plt.plot(epochs, val_acc, 'b', label='Validation acc')\n",
    "plt.title('Training and validation accuracy')\n",
    "plt.legend()\n",
    "plt.figure()\n",
    "plt.plot(epochs, loss, 'bo', label='Training loss')\n",
    "plt.plot(epochs, val_loss, 'b', label='Validation loss')\n",
    "plt.title('Training and validation loss')\n",
    "plt.legend()\n",
    "plt.show()"
   ]
  },
  {
   "cell_type": "markdown",
   "metadata": {},
   "source": [
    "# Save Model"
   ]
  },
  {
   "cell_type": "code",
   "execution_count": 11,
   "metadata": {},
   "outputs": [],
   "source": [
    "model.save(\"BrainTumorProject.h5\")"
   ]
  },
  {
   "cell_type": "markdown",
   "metadata": {},
   "source": [
    "Give Test directory, Resizes all images to 224 × 224, Batch Size = 20 and using class_mode = binary (Because you use binary_crossentropy loss, you need binary labels.)"
   ]
  },
  {
   "cell_type": "code",
   "execution_count": 13,
   "metadata": {},
   "outputs": [
    {
     "name": "stdout",
     "output_type": "stream",
     "text": [
      "Found 1150 images belonging to 2 classes.\n"
     ]
    }
   ],
   "source": [
    "test_generator = train_datagen.flow_from_directory(\n",
    "test_dir,\n",
    "target_size=(224, 224),\n",
    "batch_size=20,\n",
    "class_mode='binary')\n"
   ]
  },
  {
   "cell_type": "markdown",
   "metadata": {},
   "source": [
    "Test The Model On Unseen Data"
   ]
  },
  {
   "cell_type": "code",
   "execution_count": 14,
   "metadata": {},
   "outputs": [
    {
     "name": "stdout",
     "output_type": "stream",
     "text": [
      "58/58 - 936s - loss: 0.1841 - acc: 0.9452\n"
     ]
    }
   ],
   "source": [
    "evaluation = model.evaluate_generator(test_generator, verbose=2) "
   ]
  },
  {
   "cell_type": "code",
   "execution_count": null,
   "metadata": {},
   "outputs": [],
   "source": []
  }
 ],
 "metadata": {
  "kernelspec": {
   "display_name": "Python 3",
   "language": "python",
   "name": "python3"
  },
  "language_info": {
   "codemirror_mode": {
    "name": "ipython",
    "version": 3
   },
   "file_extension": ".py",
   "mimetype": "text/x-python",
   "name": "python",
   "nbconvert_exporter": "python",
   "pygments_lexer": "ipython3",
   "version": "3.7.3"
  }
 },
 "nbformat": 4,
 "nbformat_minor": 2
}
